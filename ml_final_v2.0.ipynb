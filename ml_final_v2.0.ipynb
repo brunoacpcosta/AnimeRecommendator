{
 "cells": [
  {
   "cell_type": "markdown",
   "metadata": {
    "id": "4LKGhnE76qUg"
   },
   "source": [
    "# Fazendo download do dataset"
   ]
  },
  {
   "cell_type": "code",
   "execution_count": 1,
   "metadata": {
    "id": "wL_0Ywx2DbZz"
   },
   "outputs": [],
   "source": [
    "from surprise import NormalPredictor\n",
    "from surprise import Dataset\n",
    "from surprise import Reader\n",
    "from surprise.model_selection import cross_validate, KFold, GridSearchCV\n",
    "from surprise import SVD\n",
    "from surprise import accuracy\n",
    "import pandas as pd"
   ]
  },
  {
   "cell_type": "code",
   "execution_count": 2,
   "metadata": {
    "id": "uCJP-HkRDbZ0"
   },
   "outputs": [],
   "source": [
    "df = pd.read_csv(\"animelist.csv\" , usecols=['rating','anime_id', 'user_id'], nrows=175000)"
   ]
  },
  {
   "cell_type": "code",
   "execution_count": 3,
   "metadata": {
    "id": "LMB-u9kZ6jMJ"
   },
   "outputs": [],
   "source": [
    "df['rating'] = pd.to_numeric(df['rating'], downcast='unsigned')\n",
    "df['anime_id'] = pd.to_numeric(df['anime_id'], downcast='unsigned')\n",
    "df['user_id'] = pd.to_numeric(df['user_id'], downcast='unsigned')"
   ]
  },
  {
   "cell_type": "code",
   "execution_count": 4,
   "metadata": {
    "colab": {
     "base_uri": "https://localhost:8080/",
     "height": 357
    },
    "id": "2rfm23AVMfjr",
    "outputId": "e386cce2-aac4-4b86-988e-ef62ff483793"
   },
   "outputs": [
    {
     "data": {
      "text/html": [
       "<div>\n",
       "<style scoped>\n",
       "    .dataframe tbody tr th:only-of-type {\n",
       "        vertical-align: middle;\n",
       "    }\n",
       "\n",
       "    .dataframe tbody tr th {\n",
       "        vertical-align: top;\n",
       "    }\n",
       "\n",
       "    .dataframe thead th {\n",
       "        text-align: right;\n",
       "    }\n",
       "</style>\n",
       "<table border=\"1\" class=\"dataframe\">\n",
       "  <thead>\n",
       "    <tr style=\"text-align: right;\">\n",
       "      <th></th>\n",
       "      <th>user_id</th>\n",
       "      <th>anime_id</th>\n",
       "      <th>rating</th>\n",
       "    </tr>\n",
       "  </thead>\n",
       "  <tbody>\n",
       "    <tr>\n",
       "      <td>157402</td>\n",
       "      <td>526</td>\n",
       "      <td>24873</td>\n",
       "      <td>0</td>\n",
       "    </tr>\n",
       "    <tr>\n",
       "      <td>110406</td>\n",
       "      <td>372</td>\n",
       "      <td>29095</td>\n",
       "      <td>8</td>\n",
       "    </tr>\n",
       "    <tr>\n",
       "      <td>163109</td>\n",
       "      <td>546</td>\n",
       "      <td>28891</td>\n",
       "      <td>7</td>\n",
       "    </tr>\n",
       "    <tr>\n",
       "      <td>77902</td>\n",
       "      <td>275</td>\n",
       "      <td>1704</td>\n",
       "      <td>3</td>\n",
       "    </tr>\n",
       "    <tr>\n",
       "      <td>117964</td>\n",
       "      <td>402</td>\n",
       "      <td>35716</td>\n",
       "      <td>0</td>\n",
       "    </tr>\n",
       "    <tr>\n",
       "      <td>39407</td>\n",
       "      <td>146</td>\n",
       "      <td>10457</td>\n",
       "      <td>0</td>\n",
       "    </tr>\n",
       "    <tr>\n",
       "      <td>44431</td>\n",
       "      <td>156</td>\n",
       "      <td>4722</td>\n",
       "      <td>8</td>\n",
       "    </tr>\n",
       "    <tr>\n",
       "      <td>16669</td>\n",
       "      <td>60</td>\n",
       "      <td>5214</td>\n",
       "      <td>0</td>\n",
       "    </tr>\n",
       "    <tr>\n",
       "      <td>79067</td>\n",
       "      <td>281</td>\n",
       "      <td>3712</td>\n",
       "      <td>8</td>\n",
       "    </tr>\n",
       "    <tr>\n",
       "      <td>35025</td>\n",
       "      <td>129</td>\n",
       "      <td>13125</td>\n",
       "      <td>10</td>\n",
       "    </tr>\n",
       "  </tbody>\n",
       "</table>\n",
       "</div>"
      ],
      "text/plain": [
       "        user_id  anime_id  rating\n",
       "157402      526     24873       0\n",
       "110406      372     29095       8\n",
       "163109      546     28891       7\n",
       "77902       275      1704       3\n",
       "117964      402     35716       0\n",
       "39407       146     10457       0\n",
       "44431       156      4722       8\n",
       "16669        60      5214       0\n",
       "79067       281      3712       8\n",
       "35025       129     13125      10"
      ]
     },
     "execution_count": 4,
     "metadata": {},
     "output_type": "execute_result"
    }
   ],
   "source": [
    "df.sample(10)"
   ]
  },
  {
   "cell_type": "code",
   "execution_count": 5,
   "metadata": {
    "colab": {
     "base_uri": "https://localhost:8080/"
    },
    "id": "-TpIzqMVH6A8",
    "outputId": "a5aec878-ef99-4ea0-fba1-d1400daf347c"
   },
   "outputs": [
    {
     "name": "stdout",
     "output_type": "stream",
     "text": [
      "<class 'pandas.core.frame.DataFrame'>\n",
      "RangeIndex: 175000 entries, 0 to 174999\n",
      "Data columns (total 3 columns):\n",
      "user_id     175000 non-null uint16\n",
      "anime_id    175000 non-null uint16\n",
      "rating      175000 non-null uint8\n",
      "dtypes: uint16(2), uint8(1)\n",
      "memory usage: 854.6 KB\n"
     ]
    }
   ],
   "source": [
    "df.info()"
   ]
  },
  {
   "cell_type": "code",
   "execution_count": 6,
   "metadata": {
    "colab": {
     "base_uri": "https://localhost:8080/",
     "height": 295
    },
    "id": "SX_2CB_g6pL4",
    "outputId": "8e4c0764-10e3-4b84-ac73-eada5eed3d6b"
   },
   "outputs": [
    {
     "data": {
      "text/html": [
       "<div>\n",
       "<style scoped>\n",
       "    .dataframe tbody tr th:only-of-type {\n",
       "        vertical-align: middle;\n",
       "    }\n",
       "\n",
       "    .dataframe tbody tr th {\n",
       "        vertical-align: top;\n",
       "    }\n",
       "\n",
       "    .dataframe thead th {\n",
       "        text-align: right;\n",
       "    }\n",
       "</style>\n",
       "<table border=\"1\" class=\"dataframe\">\n",
       "  <thead>\n",
       "    <tr style=\"text-align: right;\">\n",
       "      <th></th>\n",
       "      <th>user_id</th>\n",
       "      <th>anime_id</th>\n",
       "      <th>rating</th>\n",
       "    </tr>\n",
       "  </thead>\n",
       "  <tbody>\n",
       "    <tr>\n",
       "      <td>count</td>\n",
       "      <td>175000.000000</td>\n",
       "      <td>175000.000000</td>\n",
       "      <td>175000.000000</td>\n",
       "    </tr>\n",
       "    <tr>\n",
       "      <td>mean</td>\n",
       "      <td>299.080383</td>\n",
       "      <td>16273.015514</td>\n",
       "      <td>4.068537</td>\n",
       "    </tr>\n",
       "    <tr>\n",
       "      <td>std</td>\n",
       "      <td>165.413132</td>\n",
       "      <td>13737.224370</td>\n",
       "      <td>3.977567</td>\n",
       "    </tr>\n",
       "    <tr>\n",
       "      <td>min</td>\n",
       "      <td>0.000000</td>\n",
       "      <td>1.000000</td>\n",
       "      <td>0.000000</td>\n",
       "    </tr>\n",
       "    <tr>\n",
       "      <td>25%</td>\n",
       "      <td>155.000000</td>\n",
       "      <td>2969.000000</td>\n",
       "      <td>0.000000</td>\n",
       "    </tr>\n",
       "    <tr>\n",
       "      <td>50%</td>\n",
       "      <td>306.000000</td>\n",
       "      <td>12189.000000</td>\n",
       "      <td>5.000000</td>\n",
       "    </tr>\n",
       "    <tr>\n",
       "      <td>75%</td>\n",
       "      <td>440.000000</td>\n",
       "      <td>30503.000000</td>\n",
       "      <td>8.000000</td>\n",
       "    </tr>\n",
       "    <tr>\n",
       "      <td>max</td>\n",
       "      <td>590.000000</td>\n",
       "      <td>48456.000000</td>\n",
       "      <td>10.000000</td>\n",
       "    </tr>\n",
       "  </tbody>\n",
       "</table>\n",
       "</div>"
      ],
      "text/plain": [
       "             user_id       anime_id         rating\n",
       "count  175000.000000  175000.000000  175000.000000\n",
       "mean      299.080383   16273.015514       4.068537\n",
       "std       165.413132   13737.224370       3.977567\n",
       "min         0.000000       1.000000       0.000000\n",
       "25%       155.000000    2969.000000       0.000000\n",
       "50%       306.000000   12189.000000       5.000000\n",
       "75%       440.000000   30503.000000       8.000000\n",
       "max       590.000000   48456.000000      10.000000"
      ]
     },
     "execution_count": 6,
     "metadata": {},
     "output_type": "execute_result"
    }
   ],
   "source": [
    "df.describe()"
   ]
  },
  {
   "cell_type": "code",
   "execution_count": 7,
   "metadata": {},
   "outputs": [],
   "source": [
    "user_extras = {\"Jorge\":\"userlist.csv\", \"Juan\":\"juanlist.csv\", \"Lucas\":\"disneylist.csv\", \"Arthur\":\"furrylist.csv\", \"Felippe\":\"mlklist.csv\", \"Guilherme\":\"spaghettilist.csv\", \"Liu\":\"rekeesuilist.csv\", \"Tutu\":\"lolilist.csv\"}"
   ]
  },
  {
   "cell_type": "code",
   "execution_count": 8,
   "metadata": {
    "id": "tmMSNYgyd-iY"
   },
   "outputs": [],
   "source": [
    "initial_max = df[\"user_id\"].max()\n",
    "for i in user_extras.items():\n",
    "    max_user_id = df[\"user_id\"].max()\n",
    "    df_temp = pd.read_csv(i[1], usecols=['animeId','score'])\n",
    "    df_temp[\"user_id\"] = max_user_id + 1\n",
    "    user_extras[i[0]] = max_user_id + 1\n",
    "    df_temp = df_temp.rename(columns={\"score\": \"rating\", \"animeId\": \"anime_id\"})\n",
    "    df = df.append(df_temp, sort=True)\n",
    "df = df.reset_index(drop=True)"
   ]
  },
  {
   "cell_type": "code",
   "execution_count": 9,
   "metadata": {},
   "outputs": [
    {
     "name": "stdout",
     "output_type": "stream",
     "text": [
      "{'Jorge': 591, 'Juan': 592, 'Lucas': 593, 'Arthur': 594, 'Felippe': 595, 'Guilherme': 596, 'Liu': 597, 'Tutu': 598}\n"
     ]
    }
   ],
   "source": [
    "print(user_extras)"
   ]
  },
  {
   "cell_type": "code",
   "execution_count": 10,
   "metadata": {
    "colab": {
     "base_uri": "https://localhost:8080/",
     "height": 203
    },
    "id": "0erAUdP20HPl",
    "outputId": "c6990bc4-d934-4d9b-fe1a-7144db5707b4"
   },
   "outputs": [
    {
     "data": {
      "text/html": [
       "<div>\n",
       "<style scoped>\n",
       "    .dataframe tbody tr th:only-of-type {\n",
       "        vertical-align: middle;\n",
       "    }\n",
       "\n",
       "    .dataframe tbody tr th {\n",
       "        vertical-align: top;\n",
       "    }\n",
       "\n",
       "    .dataframe thead th {\n",
       "        text-align: right;\n",
       "    }\n",
       "</style>\n",
       "<table border=\"1\" class=\"dataframe\">\n",
       "  <thead>\n",
       "    <tr style=\"text-align: right;\">\n",
       "      <th></th>\n",
       "      <th>anime_id</th>\n",
       "      <th>rating</th>\n",
       "      <th>user_id</th>\n",
       "    </tr>\n",
       "  </thead>\n",
       "  <tbody>\n",
       "    <tr>\n",
       "      <td>176010</td>\n",
       "      <td>35073</td>\n",
       "      <td>7</td>\n",
       "      <td>598</td>\n",
       "    </tr>\n",
       "    <tr>\n",
       "      <td>176011</td>\n",
       "      <td>26243</td>\n",
       "      <td>6</td>\n",
       "      <td>598</td>\n",
       "    </tr>\n",
       "    <tr>\n",
       "      <td>176012</td>\n",
       "      <td>28927</td>\n",
       "      <td>6</td>\n",
       "      <td>598</td>\n",
       "    </tr>\n",
       "    <tr>\n",
       "      <td>176013</td>\n",
       "      <td>27775</td>\n",
       "      <td>7</td>\n",
       "      <td>598</td>\n",
       "    </tr>\n",
       "    <tr>\n",
       "      <td>176014</td>\n",
       "      <td>527</td>\n",
       "      <td>7</td>\n",
       "      <td>598</td>\n",
       "    </tr>\n",
       "  </tbody>\n",
       "</table>\n",
       "</div>"
      ],
      "text/plain": [
       "        anime_id  rating  user_id\n",
       "176010     35073       7      598\n",
       "176011     26243       6      598\n",
       "176012     28927       6      598\n",
       "176013     27775       7      598\n",
       "176014       527       7      598"
      ]
     },
     "execution_count": 10,
     "metadata": {},
     "output_type": "execute_result"
    }
   ],
   "source": [
    "df.tail()"
   ]
  },
  {
   "cell_type": "code",
   "execution_count": 11,
   "metadata": {
    "colab": {
     "base_uri": "https://localhost:8080/"
    },
    "id": "zzKbfsgf_K-9",
    "outputId": "663bd6ea-d472-4617-a1f0-9afaa5f62b53"
   },
   "outputs": [
    {
     "data": {
      "text/plain": [
       "436    0.014760\n",
       "146    0.013402\n",
       "240    0.012823\n",
       "446    0.011408\n",
       "172    0.010596\n",
       "         ...   \n",
       "449    0.000006\n",
       "396    0.000006\n",
       "106    0.000006\n",
       "203    0.000006\n",
       "443    0.000006\n",
       "Name: user_id, Length: 545, dtype: float64"
      ]
     },
     "execution_count": 11,
     "metadata": {},
     "output_type": "execute_result"
    }
   ],
   "source": [
    "df[\"user_id\"].value_counts(normalize=True)"
   ]
  },
  {
   "cell_type": "code",
   "execution_count": 12,
   "metadata": {},
   "outputs": [
    {
     "data": {
      "text/plain": [
       "1535     0.002403\n",
       "16498    0.002085\n",
       "5114     0.002023\n",
       "1575     0.001920\n",
       "11757    0.001915\n",
       "           ...   \n",
       "2483     0.000006\n",
       "434      0.000006\n",
       "34979    0.000006\n",
       "1713     0.000006\n",
       "2047     0.000006\n",
       "Name: anime_id, Length: 9283, dtype: float64"
      ]
     },
     "execution_count": 12,
     "metadata": {},
     "output_type": "execute_result"
    }
   ],
   "source": [
    "df[\"anime_id\"].value_counts(normalize=True)"
   ]
  },
  {
   "cell_type": "code",
   "execution_count": 13,
   "metadata": {
    "id": "BNa6kYO4DbZ0"
   },
   "outputs": [],
   "source": [
    "# A reader is still needed but only the rating_scale param is requiered.\n",
    "reader = Reader(rating_scale=(0, 10))\n",
    "\n",
    "# The columns must correspond to user id, item id and ratings (in that order).\n",
    "df = Dataset.load_from_df(df[['user_id', 'anime_id', 'rating']], reader)"
   ]
  },
  {
   "cell_type": "code",
   "execution_count": 14,
   "metadata": {
    "id": "ctXpPxM0F-VL"
   },
   "outputs": [
    {
     "name": "stdout",
     "output_type": "stream",
     "text": [
      "RMSE: 1.8434\n"
     ]
    },
    {
     "data": {
      "text/plain": [
       "1.843361706086956"
      ]
     },
     "execution_count": 14,
     "metadata": {},
     "output_type": "execute_result"
    }
   ],
   "source": [
    "from collections import defaultdict\n",
    "\n",
    "trainset = df.build_full_trainset()\n",
    "algo = SVD(n_epochs=15, lr_all=0.004, reg_all=0.15)\n",
    "algo.fit(trainset)\n",
    "\n",
    "# Than predict ratings for all pairs (u, i) that are NOT in the training set.\n",
    "testset = trainset.build_anti_testset()\n",
    "predictions = algo.test(testset)\n",
    "\n",
    "accuracy.rmse(predictions, verbose=True)"
   ]
  },
  {
   "cell_type": "code",
   "execution_count": 15,
   "metadata": {
    "id": "7wtW5bSbfago"
   },
   "outputs": [],
   "source": [
    "def get_top_n(predictions, n=10):\n",
    "    \"\"\"Return the top-N recommendation for each user from a set of predictions.\n",
    "\n",
    "    Args:\n",
    "        predictions(list of Prediction objects): The list of predictions, as\n",
    "            returned by the test method of an algorithm.\n",
    "        n(int): The number of recommendation to output for each user. Default\n",
    "            is 10.\n",
    "\n",
    "    Returns:\n",
    "    A dict where keys are user (raw) ids and values are lists of tuples:\n",
    "        [(raw item id, rating estimation), ...] of size n.\n",
    "    \"\"\"\n",
    "\n",
    "    # First map the predictions to each user.\n",
    "    top_n = defaultdict(list)\n",
    "    for uid, iid, true_r, est, _ in predictions:\n",
    "        top_n[uid].append((iid, est))\n",
    "\n",
    "    # Then sort the predictions for each user and retrieve the k highest ones.\n",
    "    for uid, user_ratings in top_n.items():\n",
    "        user_ratings.sort(key=lambda x: x[1], reverse=True)\n",
    "        top_n[uid] = user_ratings[:n]\n",
    "\n",
    "    return top_n\n",
    "\n",
    "def get_user_top_n(predictions, user_id, n=10):\n",
    "\n",
    "    # First map the predictions to each user.\n",
    "    top_n = defaultdict(list)\n",
    "    for uid, iid, true_r, est, _ in predictions:\n",
    "        if uid == user_id:\n",
    "            top_n[uid].append((iid, est))\n",
    "\n",
    "    # Then sort the predictions for each user and retrieve the k highest ones.\n",
    "    for uid, user_ratings in top_n.items():\n",
    "        user_ratings.sort(key=lambda x: x[1], reverse=True)\n",
    "        top_n[uid] = user_ratings[:n]\n",
    "\n",
    "    return top_n"
   ]
  },
  {
   "cell_type": "code",
   "execution_count": 16,
   "metadata": {
    "colab": {
     "base_uri": "https://localhost:8080/"
    },
    "id": "eqQxHMv4Q_XY",
    "outputId": "8e558055-9950-4115-d2e7-aaf1f35e87cf"
   },
   "outputs": [],
   "source": [
    "top_n = get_top_n(predictions, n=10)\n",
    "df_animes = pd.read_csv(\"anime.csv\" , usecols=['MAL_ID', 'Name'])\n"
   ]
  },
  {
   "cell_type": "code",
   "execution_count": 19,
   "metadata": {},
   "outputs": [
    {
     "data": {
      "text/html": [
       "<div>\n",
       "<style scoped>\n",
       "    .dataframe tbody tr th:only-of-type {\n",
       "        vertical-align: middle;\n",
       "    }\n",
       "\n",
       "    .dataframe tbody tr th {\n",
       "        vertical-align: top;\n",
       "    }\n",
       "\n",
       "    .dataframe thead th {\n",
       "        text-align: right;\n",
       "    }\n",
       "</style>\n",
       "<table border=\"1\" class=\"dataframe\">\n",
       "  <thead>\n",
       "    <tr style=\"text-align: right;\">\n",
       "      <th></th>\n",
       "      <th>User</th>\n",
       "      <th>Name</th>\n",
       "    </tr>\n",
       "  </thead>\n",
       "  <tbody>\n",
       "    <tr>\n",
       "      <td>62</td>\n",
       "      <td>Liu</td>\n",
       "      <td>Tenki no Ko</td>\n",
       "    </tr>\n",
       "    <tr>\n",
       "      <td>64</td>\n",
       "      <td>Liu</td>\n",
       "      <td>Detective Conan Movie 07: Crossroad in the Anc...</td>\n",
       "    </tr>\n",
       "    <tr>\n",
       "      <td>65</td>\n",
       "      <td>Liu</td>\n",
       "      <td>Ansatsu Kyoushitsu 2nd Season</td>\n",
       "    </tr>\n",
       "    <tr>\n",
       "      <td>66</td>\n",
       "      <td>Liu</td>\n",
       "      <td>Baccano! Specials</td>\n",
       "    </tr>\n",
       "    <tr>\n",
       "      <td>67</td>\n",
       "      <td>Liu</td>\n",
       "      <td>Ansatsu Kyoushitsu</td>\n",
       "    </tr>\n",
       "    <tr>\n",
       "      <td>60</td>\n",
       "      <td>Liu</td>\n",
       "      <td>Baccano!</td>\n",
       "    </tr>\n",
       "    <tr>\n",
       "      <td>68</td>\n",
       "      <td>Liu</td>\n",
       "      <td>Dragon Ball Z Movie 07: Kyokugen Battle!! Sand...</td>\n",
       "    </tr>\n",
       "    <tr>\n",
       "      <td>69</td>\n",
       "      <td>Liu</td>\n",
       "      <td>Shingeki no Kyojin: The Final Season</td>\n",
       "    </tr>\n",
       "    <tr>\n",
       "      <td>63</td>\n",
       "      <td>Liu</td>\n",
       "      <td>Isekai Quartet 2</td>\n",
       "    </tr>\n",
       "    <tr>\n",
       "      <td>61</td>\n",
       "      <td>Liu</td>\n",
       "      <td>Grand Blue</td>\n",
       "    </tr>\n",
       "    <tr>\n",
       "      <td>28</td>\n",
       "      <td>Lucas</td>\n",
       "      <td>Clannad: After Story - Mou Hitotsu no Sekai, K...</td>\n",
       "    </tr>\n",
       "    <tr>\n",
       "      <td>20</td>\n",
       "      <td>Lucas</td>\n",
       "      <td>Clannad: Mou Hitotsu no Sekai, Tomoyo-hen</td>\n",
       "    </tr>\n",
       "    <tr>\n",
       "      <td>21</td>\n",
       "      <td>Lucas</td>\n",
       "      <td>Shingeki no Kyojin Season 3 Part 2</td>\n",
       "    </tr>\n",
       "    <tr>\n",
       "      <td>22</td>\n",
       "      <td>Lucas</td>\n",
       "      <td>Boku dake ga Inai Machi</td>\n",
       "    </tr>\n",
       "    <tr>\n",
       "      <td>23</td>\n",
       "      <td>Lucas</td>\n",
       "      <td>Made in Abyss</td>\n",
       "    </tr>\n",
       "    <tr>\n",
       "      <td>24</td>\n",
       "      <td>Lucas</td>\n",
       "      <td>Angel Beats!</td>\n",
       "    </tr>\n",
       "    <tr>\n",
       "      <td>25</td>\n",
       "      <td>Lucas</td>\n",
       "      <td>Angel Beats!: Another Epilogue</td>\n",
       "    </tr>\n",
       "    <tr>\n",
       "      <td>26</td>\n",
       "      <td>Lucas</td>\n",
       "      <td>Seishun Buta Yarou wa Bunny Girl Senpai no Yum...</td>\n",
       "    </tr>\n",
       "    <tr>\n",
       "      <td>27</td>\n",
       "      <td>Lucas</td>\n",
       "      <td>Berserk: Ougon Jidai-hen III - Kourin</td>\n",
       "    </tr>\n",
       "    <tr>\n",
       "      <td>29</td>\n",
       "      <td>Lucas</td>\n",
       "      <td>Kono Subarashii Sekai ni Shukufuku wo! 2</td>\n",
       "    </tr>\n",
       "    <tr>\n",
       "      <td>77</td>\n",
       "      <td>Tutu</td>\n",
       "      <td>Fullmetal Alchemist</td>\n",
       "    </tr>\n",
       "    <tr>\n",
       "      <td>76</td>\n",
       "      <td>Tutu</td>\n",
       "      <td>Clannad: After Story - Mou Hitotsu no Sekai, K...</td>\n",
       "    </tr>\n",
       "    <tr>\n",
       "      <td>75</td>\n",
       "      <td>Tutu</td>\n",
       "      <td>Angel Beats!: Another Epilogue</td>\n",
       "    </tr>\n",
       "    <tr>\n",
       "      <td>74</td>\n",
       "      <td>Tutu</td>\n",
       "      <td>Final Fantasy VII: Advent Children</td>\n",
       "    </tr>\n",
       "    <tr>\n",
       "      <td>70</td>\n",
       "      <td>Tutu</td>\n",
       "      <td>Clannad: Mou Hitotsu no Sekai, Tomoyo-hen</td>\n",
       "    </tr>\n",
       "    <tr>\n",
       "      <td>72</td>\n",
       "      <td>Tutu</td>\n",
       "      <td>Baccano! Specials</td>\n",
       "    </tr>\n",
       "    <tr>\n",
       "      <td>71</td>\n",
       "      <td>Tutu</td>\n",
       "      <td>Angel Beats!</td>\n",
       "    </tr>\n",
       "    <tr>\n",
       "      <td>78</td>\n",
       "      <td>Tutu</td>\n",
       "      <td>Ano Hi Mita Hana no Namae wo Bokutachi wa Mada...</td>\n",
       "    </tr>\n",
       "    <tr>\n",
       "      <td>73</td>\n",
       "      <td>Tutu</td>\n",
       "      <td>Sen to Chihiro no Kamikakushi</td>\n",
       "    </tr>\n",
       "    <tr>\n",
       "      <td>79</td>\n",
       "      <td>Tutu</td>\n",
       "      <td>Berserk: Ougon Jidai-hen I - Haou no Tamago</td>\n",
       "    </tr>\n",
       "  </tbody>\n",
       "</table>\n",
       "</div>"
      ],
      "text/plain": [
       "     User                                               Name\n",
       "62    Liu                                        Tenki no Ko\n",
       "64    Liu  Detective Conan Movie 07: Crossroad in the Anc...\n",
       "65    Liu                      Ansatsu Kyoushitsu 2nd Season\n",
       "66    Liu                                  Baccano! Specials\n",
       "67    Liu                                 Ansatsu Kyoushitsu\n",
       "60    Liu                                           Baccano!\n",
       "68    Liu  Dragon Ball Z Movie 07: Kyokugen Battle!! Sand...\n",
       "69    Liu               Shingeki no Kyojin: The Final Season\n",
       "63    Liu                                   Isekai Quartet 2\n",
       "61    Liu                                         Grand Blue\n",
       "28  Lucas  Clannad: After Story - Mou Hitotsu no Sekai, K...\n",
       "20  Lucas          Clannad: Mou Hitotsu no Sekai, Tomoyo-hen\n",
       "21  Lucas                 Shingeki no Kyojin Season 3 Part 2\n",
       "22  Lucas                            Boku dake ga Inai Machi\n",
       "23  Lucas                                      Made in Abyss\n",
       "24  Lucas                                       Angel Beats!\n",
       "25  Lucas                     Angel Beats!: Another Epilogue\n",
       "26  Lucas  Seishun Buta Yarou wa Bunny Girl Senpai no Yum...\n",
       "27  Lucas              Berserk: Ougon Jidai-hen III - Kourin\n",
       "29  Lucas           Kono Subarashii Sekai ni Shukufuku wo! 2\n",
       "77   Tutu                                Fullmetal Alchemist\n",
       "76   Tutu  Clannad: After Story - Mou Hitotsu no Sekai, K...\n",
       "75   Tutu                     Angel Beats!: Another Epilogue\n",
       "74   Tutu                 Final Fantasy VII: Advent Children\n",
       "70   Tutu          Clannad: Mou Hitotsu no Sekai, Tomoyo-hen\n",
       "72   Tutu                                  Baccano! Specials\n",
       "71   Tutu                                       Angel Beats!\n",
       "78   Tutu  Ano Hi Mita Hana no Namae wo Bokutachi wa Mada...\n",
       "73   Tutu                      Sen to Chihiro no Kamikakushi\n",
       "79   Tutu        Berserk: Ougon Jidai-hen I - Haou no Tamago"
      ]
     },
     "execution_count": 19,
     "metadata": {},
     "output_type": "execute_result"
    }
   ],
   "source": [
    "df_custom = pd.DataFrame(columns=['User','Name'])\n",
    "key_list = list(user_extras.keys())\n",
    "for i in range(initial_max+1, max_user_id+2) :\n",
    "    reco_list = top_n[i]\n",
    "    for j in reco_list:\n",
    "        anime = df_animes.loc[df_animes['MAL_ID'] == j[0]]\n",
    "        df_custom = df_custom.append({\n",
    "             \"Name\": anime[\"Name\"].values[0],\n",
    "             \"User\": key_list[i-initial_max-1]\n",
    "              }, ignore_index=True)\n",
    "df_custom = df_custom.sort_values(\"User\")\n",
    "df_custom.tail(30)"
   ]
  },
  {
   "cell_type": "code",
   "execution_count": null,
   "metadata": {
    "colab": {
     "base_uri": "https://localhost:8080/",
     "height": 385
    },
    "id": "WPEaSg0wSSDe",
    "outputId": "ccae7cc1-06ad-4059-d509-eac708252178"
   },
   "outputs": [],
   "source": [
    "from surprise import SVD, Dataset, NormalPredictor, Reader, accuracy\n",
    "from surprise.model_selection import cross_validate, KFold, GridSearchCV\n",
    "\n",
    "param_grid = {'n_epochs': [10, 15, 25], 'lr_all': [0.002, 0.004, 0.008],\n",
    "              'reg_all': [0.03, 0.09, 0.15]}\n",
    "gs = GridSearchCV(SVD, param_grid, measures=['rmse', 'mae'], cv=3)\n",
    "\n",
    "gs.fit(df)\n",
    "\n",
    "\n",
    "# best RMSE score\n",
    "print(gs.best_score['rmse'])\n",
    "print(gs.best_score['mae'])\n",
    "\n",
    "# combination of parameters that gave the best RMSE score\n",
    "print(gs.best_params['rmse'])\n"
   ]
  },
  {
   "cell_type": "code",
   "execution_count": null,
   "metadata": {},
   "outputs": [],
   "source": [
    "estim = gs.best_estimator['rmse']"
   ]
  },
  {
   "cell_type": "code",
   "execution_count": null,
   "metadata": {},
   "outputs": [],
   "source": [
    "estim.fit(trainset)\n",
    "predictions_best = estim.test(testset)\n",
    "accuracy.rmse(predictions_best, verbose=True)"
   ]
  },
  {
   "cell_type": "code",
   "execution_count": null,
   "metadata": {
    "id": "GjHaF4LwTH_t"
   },
   "outputs": [],
   "source": [
    "df_custom = pd.DataFrame(columns=['User','Name', 'Rating'])\n",
    "key_list = list(user_extras.keys())\n",
    "for i in range(initial_max+1, max_user_id+2) :\n",
    "    reco_list = top_n[i]\n",
    "    for j in reco_list:\n",
    "        anime = df_animes.loc[df_animes['MAL_ID'] == j[0]]\n",
    "        df_custom = df_custom.append({\n",
    "             \"Name\": anime[\"Name\"].values[0],\n",
    "             \"Rating\":  j[1],\n",
    "             \"User\": key_list[i-initial_max-1]\n",
    "              }, ignore_index=True)\n",
    "df_custom = df_custom.sort_values(\"User\")\n",
    "df_custom"
   ]
  }
 ],
 "metadata": {
  "colab": {
   "collapsed_sections": [],
   "name": "ml_final.ipynb",
   "provenance": []
  },
  "kernelspec": {
   "display_name": "Python 3",
   "language": "python",
   "name": "python3"
  },
  "language_info": {
   "codemirror_mode": {
    "name": "ipython",
    "version": 3
   },
   "file_extension": ".py",
   "mimetype": "text/x-python",
   "name": "python",
   "nbconvert_exporter": "python",
   "pygments_lexer": "ipython3",
   "version": "3.7.3"
  }
 },
 "nbformat": 4,
 "nbformat_minor": 1
}
